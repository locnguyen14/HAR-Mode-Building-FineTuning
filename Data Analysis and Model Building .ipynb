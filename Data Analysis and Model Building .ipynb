{
 "cells": [
  {
   "cell_type": "markdown",
   "metadata": {},
   "source": [
    "# Initial Data Analysis for Human Activity Recognition dataset\n",
    "\n",
    "Dataset Info: https://archive.ics.uci.edu/ml/datasets/human+activity+recognition+using+smartphones\n",
    "References blog post:\n",
    "- http://ataspinar.com/2018/04/04/machine-learning-with-signal-processing-techniques/\n",
    "- https://towardsdatascience.com/human-activity-recognition-har-tutorial-with-keras-and-core-ml-part-1-8c05e365dfa0\n",
    "- https://machinelearningmastery.com/how-to-develop-rnn-models-for-human-activity-recognition-time-series-classification/"
   ]
  },
  {
   "cell_type": "code",
   "execution_count": 2,
   "metadata": {},
   "outputs": [],
   "source": [
    "# Import neccessary package\n",
    "import numpy as np\n",
    "import pandas as pd\n",
    "import matplotlib.pyplot as plt"
   ]
  },
  {
   "cell_type": "markdown",
   "metadata": {},
   "source": [
    "## 0.  input files and Transforming data into correct shape"
   ]
  },
  {
   "cell_type": "code",
   "execution_count": 3,
   "metadata": {},
   "outputs": [],
   "source": [
    "import json\n",
    "\n",
    "df = pd.DataFrame()\n",
    "with open('AccelerometerData.json') as json_file:\n",
    "    data = json.load(json_file)\n",
    "    for key, value in data.items():\n",
    "        df[key] = value"
   ]
  },
  {
   "cell_type": "code",
   "execution_count": 4,
   "metadata": {},
   "outputs": [
    {
     "data": {
      "text/html": [
       "<div>\n",
       "<style scoped>\n",
       "    .dataframe tbody tr th:only-of-type {\n",
       "        vertical-align: middle;\n",
       "    }\n",
       "\n",
       "    .dataframe tbody tr th {\n",
       "        vertical-align: top;\n",
       "    }\n",
       "\n",
       "    .dataframe thead th {\n",
       "        text-align: right;\n",
       "    }\n",
       "</style>\n",
       "<table border=\"1\" class=\"dataframe\">\n",
       "  <thead>\n",
       "    <tr style=\"text-align: right;\">\n",
       "      <th></th>\n",
       "      <th>x</th>\n",
       "      <th>y</th>\n",
       "      <th>z</th>\n",
       "    </tr>\n",
       "  </thead>\n",
       "  <tbody>\n",
       "    <tr>\n",
       "      <th>0</th>\n",
       "      <td>6.763846e+10</td>\n",
       "      <td>1.438737</td>\n",
       "      <td>2.245374</td>\n",
       "    </tr>\n",
       "    <tr>\n",
       "      <th>1</th>\n",
       "      <td>2.620000e+02</td>\n",
       "      <td>-0.342579</td>\n",
       "      <td>-0.494260</td>\n",
       "    </tr>\n",
       "    <tr>\n",
       "      <th>2</th>\n",
       "      <td>2.620000e+02</td>\n",
       "      <td>-0.342579</td>\n",
       "      <td>-0.494260</td>\n",
       "    </tr>\n",
       "    <tr>\n",
       "      <th>3</th>\n",
       "      <td>2.270000e+02</td>\n",
       "      <td>-0.410888</td>\n",
       "      <td>-0.992163</td>\n",
       "    </tr>\n",
       "    <tr>\n",
       "      <th>4</th>\n",
       "      <td>8.640200e+04</td>\n",
       "      <td>1.682246</td>\n",
       "      <td>-2.709115</td>\n",
       "    </tr>\n",
       "    <tr>\n",
       "      <th>5</th>\n",
       "      <td>4.086389e-01</td>\n",
       "      <td>-0.344093</td>\n",
       "      <td>-1.027178</td>\n",
       "    </tr>\n",
       "    <tr>\n",
       "      <th>6</th>\n",
       "      <td>1.241056e+12</td>\n",
       "      <td>0.192714</td>\n",
       "      <td>-0.213212</td>\n",
       "    </tr>\n",
       "    <tr>\n",
       "      <th>7</th>\n",
       "      <td>4.300000e+01</td>\n",
       "      <td>-0.024648</td>\n",
       "      <td>-0.132305</td>\n",
       "    </tr>\n",
       "    <tr>\n",
       "      <th>8</th>\n",
       "      <td>7.075766e+08</td>\n",
       "      <td>-1.181650</td>\n",
       "      <td>0.215036</td>\n",
       "    </tr>\n",
       "    <tr>\n",
       "      <th>9</th>\n",
       "      <td>1.100000e+01</td>\n",
       "      <td>0.137710</td>\n",
       "      <td>-0.174066</td>\n",
       "    </tr>\n",
       "  </tbody>\n",
       "</table>\n",
       "</div>"
      ],
      "text/plain": [
       "              x         y         z\n",
       "0  6.763846e+10  1.438737  2.245374\n",
       "1  2.620000e+02 -0.342579 -0.494260\n",
       "2  2.620000e+02 -0.342579 -0.494260\n",
       "3  2.270000e+02 -0.410888 -0.992163\n",
       "4  8.640200e+04  1.682246 -2.709115\n",
       "5  4.086389e-01 -0.344093 -1.027178\n",
       "6  1.241056e+12  0.192714 -0.213212\n",
       "7  4.300000e+01 -0.024648 -0.132305\n",
       "8  7.075766e+08 -1.181650  0.215036\n",
       "9  1.100000e+01  0.137710 -0.174066"
      ]
     },
     "execution_count": 4,
     "metadata": {},
     "output_type": "execute_result"
    }
   ],
   "source": [
    "df.head(10)"
   ]
  },
  {
   "cell_type": "markdown",
   "metadata": {},
   "source": [
    "## 1. Reading input files and Transforming data into correct shape"
   ]
  },
  {
   "cell_type": "code",
   "execution_count": 7,
   "metadata": {},
   "outputs": [],
   "source": [
    "# Data has already been splotted into train and test set. Write a couple of function to load signals into numpy array\n",
    "def read_signals(filename):\n",
    "    '''\n",
    "    Input: path to file with different signal samples of 1 sensor (each samples is also sampled at a fixed sampling rate (50 Hz) and time window (2.56 s))\n",
    "    Output: a 2D numpy array of shape (number of samples , number of sampling data point)\n",
    "    - number of samples: number of singal examples\n",
    "    - number of sampling data point: window size * sampling rate = 2.56 (s) * 50 (Hz) = 128 points\n",
    "    '''\n",
    "    with open(filename, 'r') as fp:\n",
    "        data = fp.read().splitlines()\n",
    "        data = map(lambda x: x.rstrip().lstrip().split(), data)\n",
    "        data = [list(map(float, line)) for line in data]\n",
    "        data = np.array(data, dtype=np.float32)\n",
    "    return data\n",
    "\n",
    "def read_labels(filename):\n",
    "    with open(filename, 'r') as fp:\n",
    "        activities = fp.read().splitlines()\n",
    "        activities = list(map(int, activities))\n",
    "    return np.array(activities)\n"
   ]
  },
  {
   "cell_type": "code",
   "execution_count": 8,
   "metadata": {},
   "outputs": [],
   "source": [
    "Input_folder_train = './UCI HAR Dataset/train/Inertial Signals/'\n",
    "Input_folder_test = './UCI HAR Dataset/test/Inertial Signals/'\n",
    "\n",
    "Input_files_train = ['body_acc_x_train.txt', 'body_acc_y_train.txt', 'body_acc_z_train.txt']\n",
    "Input_files_test = ['body_acc_x_test.txt', 'body_acc_y_test.txt', 'body_acc_z_test.txt']\n",
    "\n",
    "train_signals, test_signals = [], []\n",
    "\n",
    "for file in Input_files_train:\n",
    "    signal = read_signals(Input_folder_train + file)\n",
    "    train_signals.append(signal)\n",
    "# Transpose the shape of array to (# samples, # sampling point, # signals)\n",
    "train_signals = np.transpose(np.array(train_signals), (1,2,0))\n",
    "\n",
    "for file in Input_files_test:\n",
    "    signal = read_signals(Input_folder_test + file)\n",
    "    test_signals.append(signal)\n",
    "# Transpose the shape of array to (# samples, # sampling point, # signals)\n",
    "test_signals = np.transpose(np.array(test_signals), (1,2,0)) \n",
    "\n",
    "LABELFILE_TRAIN = './UCI HAR Dataset/train/y_train.txt'\n",
    "LABELFILE_TEST = './UCI HAR Dataset/test/y_test.txt'\n",
    "train_labels = read_labels(LABELFILE_TRAIN)\n",
    "test_labels = read_labels(LABELFILE_TEST)"
   ]
  },
  {
   "cell_type": "markdown",
   "metadata": {},
   "source": [
    "## 2. Data Visualization of signals"
   ]
  },
  {
   "cell_type": "markdown",
   "metadata": {},
   "source": [
    "Let's first visulize the signals"
   ]
  },
  {
   "cell_type": "code",
   "execution_count": 9,
   "metadata": {},
   "outputs": [],
   "source": [
    "# A dictionary of actvities description\n",
    "activities_description = {\n",
    "    1: 'walking',\n",
    "    2: 'walking upstairs',\n",
    "    3: 'walking downstairs',\n",
    "    4: 'sitting',\n",
    "    5: 'standing',\n",
    "    6: 'laying'\n",
    "}"
   ]
  },
  {
   "cell_type": "code",
   "execution_count": 10,
   "metadata": {},
   "outputs": [],
   "source": [
    "# A fucntion to basically get the corresponding x and y value for the signals\n",
    "def get_values(y_values, T, N, f_s):\n",
    "    '''\n",
    "    y_values = values in y axis\n",
    "    T = spacing between each time steps (= windows size / sampling points) \n",
    "    N = total sampling points\n",
    "    f_s = sampling frequency\n",
    "    '''\n",
    "    y_values = y_values\n",
    "    sample_rate = 1/f_s\n",
    "    x_values = [sample_rate * kk for kk in range(0, len(y_values))]\n",
    "    return x_values, y_values"
   ]
  },
  {
   "cell_type": "code",
   "execution_count": 17,
   "metadata": {},
   "outputs": [
    {
     "data": {
      "image/png": "[encoded data removed]",
      "text/plain": [
       "<Figure size 720x360 with 1 Axes>"
      ]
     },
     "metadata": {
      "needs_background": "light"
     },
     "output_type": "display_data"
    }
   ],
   "source": [
    "# Inputs for functions. Changing the signal_no variables to sess different samples\n",
    "N = 128\n",
    "f_s = 50\n",
    "t_n = 2.56\n",
    "T = t_n/N\n",
    "\n",
    "signal_no = 100\n",
    "signals = train_signals[signal_no, :, :]\n",
    "label = train_labels[signal_no]\n",
    "activity_name = activities_description[label]\n",
    "\n",
    "# Plot the signal function\n",
    "labels = ['x-component', 'y-component', 'z-component']\n",
    "colors = ['r', 'g', 'b']\n",
    "suptitle = \"Different signals for the activity: {}\"\n",
    "\n",
    "xlabel = 'Time[sec]'\n",
    "ylabel = 'Amplitude'\n",
    "\n",
    "title = 'Accelerometer'\n",
    "\n",
    "f = plt.figure(figsize=(10,5))\n",
    "f.suptitle(suptitle.format(activity_name), fontsize=16)\n",
    "\n",
    "for comp_no in range(0, train_signals.shape[2]):\n",
    "    y_values = signals[:, comp_no]\n",
    "    x_values, y_values = get_values(y_values, T, N, f_s)\n",
    "    color = colors[comp_no]\n",
    "    label = labels[comp_no]\n",
    "    plt.plot(x_values, y_values, linestyle='-', color = color, label = label)\n",
    "\n",
    "plt.title(title, fontsize=10)\n",
    "plt.xlabel(xlabel)\n",
    "plt.ylabel(ylabel)\n",
    "plt.legend(loc='center left', bbox_to_anchor=(1, 0.5))\n",
    "plt.show()\n",
    "\n",
    "\n"
   ]
  },
  {
   "cell_type": "markdown",
   "metadata": {},
   "source": [
    "It would also be interesting to take a look at the distribution of training example by activity type\n"
   ]
  },
  {
   "cell_type": "code",
   "execution_count": 45,
   "metadata": {},
   "outputs": [
    {
     "data": {
      "image/png": "[encoded data removed]",
      "text/plain": [
       "<Figure size 432x288 with 1 Axes>"
      ]
     },
     "metadata": {
      "needs_background": "light"
     },
     "output_type": "display_data"
    }
   ],
   "source": [
    "train_label_series = pd.Series(train_labels)\n",
    "train_label_series = train_label_series.astype('category')\n",
    "train_label_series = train_label_series.map(activities_description)\n",
    "train_label_series.value_counts().plot(kind='bar',\n",
    "                                       title='Training Examples by Activity Type')\n",
    "plt.show()"
   ]
  },
  {
   "cell_type": "code",
   "execution_count": 46,
   "metadata": {},
   "outputs": [
    {
     "data": {
      "image/png": "[encoded data removed]",
      "text/plain": [
       "<Figure size 432x288 with 1 Axes>"
      ]
     },
     "metadata": {
      "needs_background": "light"
     },
     "output_type": "display_data"
    }
   ],
   "source": [
    "test_label_series = pd.Series(test_labels)\n",
    "test_label_series = test_label_series.astype('category')\n",
    "test_label_series = test_label_series.map(activities_description)\n",
    "test_label_series.value_counts().plot(kind='bar',\n",
    "                                       title='Training Examples by Activity Type')\n",
    "plt.show()"
   ]
  },
  {
   "cell_type": "markdown",
   "metadata": {},
   "source": [
    "Distribution of training and testing data seems well-balanced and similar --> maybe no worried of data leakage"
   ]
  },
  {
   "cell_type": "markdown",
   "metadata": {},
   "source": [
    "## 3. Model Building"
   ]
  },
  {
   "cell_type": "markdown",
   "metadata": {},
   "source": [
    "Two different approach has been trying for this problem:\n",
    "- Approach 1: focus more on feature extractions and feature engineering of signal and then use traditional machine learning algorithm to classfy the actvity\n",
    "- Approach 2: use more current state of the art deep learning algorithm for sequence model (RNN, LSTM, BirDi RNN,...). Less feature engineering task and focus more on the implementation\n",
    "\n",
    "--> In a long term, approach 1 seems a little less feasible since it's pretty hard to put into production given the heavy work of preprocessing the data (already have a notebook trying the approach). So, we'll explore different deep learning model in this case. \n",
    "\n",
    "--> For this exploratory phase, we'll Keras to get a sense of  a couple of initial result before diving deep into different model tuning techniques. We choose Keras, which is a wrapper for more complex computational engines such as Tensorflow or Theano. We'll go with Tensorflow in this case since it provides more flexibility in terms of later deployment of our model and production phase"
   ]
  },
  {
   "cell_type": "code",
   "execution_count": 39,
   "metadata": {},
   "outputs": [
    {
     "name": "stdout",
     "output_type": "stream",
     "text": [
      "Shape of output in training: (7352, 6)\n",
      "Shape of output in testing: (2947, 6)\n"
     ]
    }
   ],
   "source": [
    "# One hot encode the label data to make it a shape of (number of example, number of class)\n",
    "import tensorflow as tf\n",
    "from keras.models import Sequential\n",
    "from keras.layers import Dense, Flatten, Dropout, LSTM\n",
    "from keras.utils import to_categorical\n",
    "from sklearn.model_selection import train_test_split\n",
    "\n",
    "trainX = train_signals\n",
    "testX = test_signals\n",
    "trainY = to_categorical(train_labels)\n",
    "testY = to_categorical(test_labels)\n",
    "# Since our class going from 1 to 6, but the to_categorical function in keras always go from 0 to n-classes.\n",
    "# We're going to delete the first column\n",
    "trainY = np.delete(trainY, 0, 1)\n",
    "testY = np.delete(testY, 0, 1)\n",
    "\n",
    "\n",
    "print(\"Shape of output in training: {shapeY}\".format(shapeY=trainY.shape))\n",
    "print(\"Shape of output in testing: {shapeY}\".format(shapeY=testY.shape))"
   ]
  },
  {
   "cell_type": "code",
   "execution_count": 63,
   "metadata": {},
   "outputs": [],
   "source": [
    "# Build a single model\n",
    "def evaluate_model(trainX, trainY, testX, testY):\n",
    "    verbose, epochs, batch_size = 1, 50, 1024\n",
    "    n_timesteps, n_features, n_output = trainX.shape[1], trainX.shape[2], trainY.shape[1]\n",
    "    model = Sequential()\n",
    "    model.add(LSTM(150, input_shape=(n_timesteps, n_features)))\n",
    "    model.add(Dropout(0.3))\n",
    "    model.add(Dense(100, activation='relu'))\n",
    "    model.add(Dense(n_output, activation='softmax'))\n",
    "    model.compile(loss='categorical_crossentropy', optimizer='adam', metrics=['accuracy'])\n",
    "    # fit the network\n",
    "    history = model.fit(trainX, trainY, epochs=epochs, batch_size=batch_size, verbose=verbose, validation_split=0.05)\n",
    "    # evaluate the model\n",
    "    # _, accuracy = model.evaluate(testX, testY, batch_size=batch_size, verbose=verbose)\n",
    "    return history\n"
   ]
  },
  {
   "cell_type": "code",
   "execution_count": 64,
   "metadata": {},
   "outputs": [
    {
     "name": "stdout",
     "output_type": "stream",
     "text": [
      "Train on 6984 samples, validate on 368 samples\n",
      "Epoch 1/50\n",
      "6984/6984 [==============================] - 15s 2ms/step - loss: 1.7843 - accuracy: 0.2353 - val_loss: 1.7743 - val_accuracy: 0.2473\n",
      "Epoch 2/50\n",
      "6984/6984 [==============================] - 15s 2ms/step - loss: 1.7582 - accuracy: 0.2586 - val_loss: 1.7358 - val_accuracy: 0.2255\n",
      "Epoch 3/50\n",
      "6984/6984 [==============================] - 16s 2ms/step - loss: 1.6410 - accuracy: 0.3408 - val_loss: 1.5000 - val_accuracy: 0.2935\n",
      "Epoch 4/50\n",
      "6984/6984 [==============================] - 16s 2ms/step - loss: 1.3205 - accuracy: 0.3308 - val_loss: 1.1685 - val_accuracy: 0.3668\n",
      "Epoch 5/50\n",
      "6984/6984 [==============================] - 22s 3ms/step - loss: 1.1931 - accuracy: 0.3385 - val_loss: 1.2209 - val_accuracy: 0.2962\n",
      "Epoch 6/50\n",
      "6984/6984 [==============================] - 21s 3ms/step - loss: 1.1842 - accuracy: 0.3411 - val_loss: 1.1128 - val_accuracy: 0.3859\n",
      "Epoch 7/50\n",
      "6984/6984 [==============================] - 19s 3ms/step - loss: 1.2102 - accuracy: 0.3405 - val_loss: 1.4080 - val_accuracy: 0.2745\n",
      "Epoch 8/50\n",
      "6984/6984 [==============================] - 18s 3ms/step - loss: 1.2405 - accuracy: 0.3358 - val_loss: 1.1728 - val_accuracy: 0.3478\n",
      "Epoch 9/50\n",
      "6984/6984 [==============================] - 19s 3ms/step - loss: 1.2001 - accuracy: 0.3381 - val_loss: 1.1584 - val_accuracy: 0.2826\n",
      "Epoch 10/50\n",
      "6984/6984 [==============================] - 19s 3ms/step - loss: 1.1852 - accuracy: 0.3578 - val_loss: 1.1503 - val_accuracy: 0.2962\n",
      "Epoch 11/50\n",
      "6984/6984 [==============================] - 18s 3ms/step - loss: 1.1441 - accuracy: 0.3655 - val_loss: 1.1158 - val_accuracy: 0.3668\n",
      "Epoch 12/50\n",
      "6984/6984 [==============================] - 18s 3ms/step - loss: 1.1317 - accuracy: 0.3402 - val_loss: 1.2353 - val_accuracy: 0.2880\n",
      "Epoch 13/50\n",
      "6984/6984 [==============================] - 19s 3ms/step - loss: 1.1337 - accuracy: 0.3640 - val_loss: 1.2110 - val_accuracy: 0.3668\n",
      "Epoch 14/50\n",
      "6984/6984 [==============================] - 19s 3ms/step - loss: 1.1167 - accuracy: 0.3680 - val_loss: 1.1199 - val_accuracy: 0.3478\n",
      "Epoch 15/50\n",
      "6984/6984 [==============================] - 18s 3ms/step - loss: 1.1008 - accuracy: 0.3771 - val_loss: 1.1126 - val_accuracy: 0.3125\n",
      "Epoch 16/50\n",
      "6984/6984 [==============================] - 18s 3ms/step - loss: 1.0974 - accuracy: 0.3787 - val_loss: 1.1108 - val_accuracy: 0.3913\n",
      "Epoch 17/50\n",
      "6984/6984 [==============================] - 20s 3ms/step - loss: 1.1071 - accuracy: 0.3799 - val_loss: 1.1270 - val_accuracy: 0.3098\n",
      "Epoch 18/50\n",
      "6984/6984 [==============================] - 20s 3ms/step - loss: 1.1129 - accuracy: 0.3902 - val_loss: 1.2514 - val_accuracy: 0.2337\n",
      "Epoch 19/50\n",
      "6984/6984 [==============================] - 18s 3ms/step - loss: 1.0998 - accuracy: 0.3960 - val_loss: 1.1019 - val_accuracy: 0.3859\n",
      "Epoch 20/50\n",
      "6984/6984 [==============================] - 18s 3ms/step - loss: 1.0619 - accuracy: 0.4264 - val_loss: 1.0750 - val_accuracy: 0.4239\n",
      "Epoch 21/50\n",
      "6984/6984 [==============================] - 17s 2ms/step - loss: 1.0683 - accuracy: 0.4142 - val_loss: 1.1981 - val_accuracy: 0.2853\n",
      "Epoch 22/50\n",
      "6984/6984 [==============================] - 19s 3ms/step - loss: 1.0825 - accuracy: 0.4009 - val_loss: 1.0414 - val_accuracy: 0.4946\n",
      "Epoch 23/50\n",
      "6984/6984 [==============================] - 22s 3ms/step - loss: 1.0408 - accuracy: 0.4446 - val_loss: 1.0904 - val_accuracy: 0.3533\n",
      "Epoch 24/50\n",
      "6984/6984 [==============================] - 25s 4ms/step - loss: 0.9959 - accuracy: 0.4661 - val_loss: 0.8945 - val_accuracy: 0.4620\n",
      "Epoch 25/50\n",
      "6984/6984 [==============================] - 18s 3ms/step - loss: 0.9433 - accuracy: 0.4921 - val_loss: 0.8022 - val_accuracy: 0.5815\n",
      "Epoch 26/50\n",
      "6984/6984 [==============================] - 17s 2ms/step - loss: 0.9213 - accuracy: 0.5090 - val_loss: 0.8618 - val_accuracy: 0.4592\n",
      "Epoch 27/50\n",
      "6984/6984 [==============================] - 19s 3ms/step - loss: 0.8734 - accuracy: 0.5265 - val_loss: 0.8869 - val_accuracy: 0.5353\n",
      "Epoch 28/50\n",
      "6984/6984 [==============================] - 25s 4ms/step - loss: 0.8673 - accuracy: 0.5457 - val_loss: 0.7940 - val_accuracy: 0.5951\n",
      "Epoch 29/50\n",
      "6984/6984 [==============================] - 21s 3ms/step - loss: 0.8312 - accuracy: 0.5461 - val_loss: 0.7354 - val_accuracy: 0.5842\n",
      "Epoch 30/50\n",
      "6984/6984 [==============================] - 24s 3ms/step - loss: 0.7865 - accuracy: 0.5742 - val_loss: 0.6637 - val_accuracy: 0.6603\n",
      "Epoch 31/50\n",
      "6984/6984 [==============================] - 23s 3ms/step - loss: 0.7736 - accuracy: 0.5762 - val_loss: 0.7010 - val_accuracy: 0.5924\n",
      "Epoch 32/50\n",
      "6984/6984 [==============================] - 19s 3ms/step - loss: 0.7271 - accuracy: 0.5942 - val_loss: 0.6067 - val_accuracy: 0.6902\n",
      "Epoch 33/50\n",
      "6984/6984 [==============================] - 20s 3ms/step - loss: 0.7322 - accuracy: 0.5892 - val_loss: 0.6671 - val_accuracy: 0.5978\n",
      "Epoch 34/50\n",
      "6984/6984 [==============================] - 23s 3ms/step - loss: 0.7273 - accuracy: 0.5936 - val_loss: 0.7513 - val_accuracy: 0.5326\n",
      "Epoch 35/50\n",
      "6984/6984 [==============================] - 20s 3ms/step - loss: 0.7229 - accuracy: 0.5896 - val_loss: 0.5774 - val_accuracy: 0.6332\n",
      "Epoch 36/50\n",
      "6984/6984 [==============================] - 23s 3ms/step - loss: 0.7318 - accuracy: 0.5862 - val_loss: 0.7845 - val_accuracy: 0.5217\n",
      "Epoch 37/50\n",
      "6984/6984 [==============================] - 20s 3ms/step - loss: 0.7109 - accuracy: 0.6017 - val_loss: 0.5899 - val_accuracy: 0.6304\n",
      "Epoch 38/50\n",
      "6984/6984 [==============================] - 24s 3ms/step - loss: 0.6951 - accuracy: 0.6111 - val_loss: 0.6028 - val_accuracy: 0.6984\n",
      "Epoch 39/50\n",
      "6984/6984 [==============================] - 25s 4ms/step - loss: 0.6862 - accuracy: 0.6113 - val_loss: 0.6811 - val_accuracy: 0.5842\n",
      "Epoch 40/50\n",
      "6984/6984 [==============================] - 23s 3ms/step - loss: 0.6816 - accuracy: 0.6210 - val_loss: 0.7410 - val_accuracy: 0.5543\n",
      "Epoch 41/50\n",
      "6984/6984 [==============================] - 16s 2ms/step - loss: 0.6853 - accuracy: 0.6103 - val_loss: 0.5940 - val_accuracy: 0.6957\n",
      "Epoch 42/50\n",
      "6984/6984 [==============================] - 14s 2ms/step - loss: 0.6808 - accuracy: 0.6032 - val_loss: 0.8807 - val_accuracy: 0.4973\n",
      "Epoch 43/50\n",
      "6984/6984 [==============================] - 14s 2ms/step - loss: 0.6689 - accuracy: 0.6197 - val_loss: 0.6112 - val_accuracy: 0.6875\n",
      "Epoch 44/50\n",
      "6984/6984 [==============================] - 15s 2ms/step - loss: 0.6635 - accuracy: 0.6206 - val_loss: 0.6053 - val_accuracy: 0.6223\n",
      "Epoch 45/50\n",
      "6984/6984 [==============================] - 15s 2ms/step - loss: 0.6617 - accuracy: 0.6196 - val_loss: 0.6763 - val_accuracy: 0.5842\n",
      "Epoch 46/50\n",
      "6984/6984 [==============================] - 14s 2ms/step - loss: 0.6569 - accuracy: 0.6197 - val_loss: 0.7085 - val_accuracy: 0.6522\n",
      "Epoch 47/50\n",
      "6984/6984 [==============================] - 15s 2ms/step - loss: 0.6558 - accuracy: 0.6240 - val_loss: 0.7104 - val_accuracy: 0.5788\n",
      "Epoch 48/50\n",
      "6984/6984 [==============================] - 15s 2ms/step - loss: 0.6542 - accuracy: 0.6211 - val_loss: 0.7447 - val_accuracy: 0.6277\n",
      "Epoch 49/50\n",
      "6984/6984 [==============================] - 14s 2ms/step - loss: 0.6599 - accuracy: 0.6201 - val_loss: 0.6525 - val_accuracy: 0.6359\n",
      "Epoch 50/50\n",
      "6984/6984 [==============================] - 14s 2ms/step - loss: 0.6518 - accuracy: 0.6257 - val_loss: 0.8515 - val_accuracy: 0.5353\n"
     ]
    }
   ],
   "source": [
    "history = evaluate_model(trainX, trainY, testX, testY)"
   ]
  },
  {
   "cell_type": "code",
   "execution_count": 66,
   "metadata": {},
   "outputs": [
    {
     "data": {
      "image/png": "[encoded data removed]",
      "text/plain": [
       "<Figure size 432x288 with 1 Axes>"
      ]
     },
     "metadata": {
      "needs_background": "light"
     },
     "output_type": "display_data"
    },
    {
     "data": {
      "image/png": "[encoded data removed]",
      "text/plain": [
       "<Figure size 432x288 with 1 Axes>"
      ]
     },
     "metadata": {
      "needs_background": "light"
     },
     "output_type": "display_data"
    }
   ],
   "source": [
    "# Plotting training \n",
    "# summarize history for accuracy\n",
    "plt.plot(history.history['accuracy'])\n",
    "plt.plot(history.history['val_accuracy'])\n",
    "plt.title('model accuracy')\n",
    "plt.ylabel('accuracy')\n",
    "plt.xlabel('epoch')\n",
    "plt.legend(['train','test'], loc='upper left')\n",
    "plt.show()\n",
    "# summarize history for loss\n",
    "plt.plot(history.history['loss'])\n",
    "plt.plot(history.history['val_loss'])\n",
    "plt.title('model loss')\n",
    "plt.ylabel('loss')\n",
    "plt.xlabel('epoch')\n",
    "plt.legend(['train','test'], loc='upper left')\n",
    "plt.show()"
   ]
  },
  {
   "cell_type": "markdown",
   "metadata": {},
   "source": [
    "## 4. Model Tuning"
   ]
  },
  {
   "cell_type": "markdown",
   "metadata": {},
   "source": [
    "For this step, I have already modulerize the above code into certain functions and have a separte python file dedicated to tuning different hyperparmeter, architechture and extra feature engineering. All the experiments, logs and metrics are kept tracked by a very power application call Weight and Biases. For more details of the experiment, please refer to the documentation below:\n",
    "https://docs.wandb.com/\n",
    "\n",
    "Notes: I haven't tried out sweep for hyperparameter tuning yet, but it would be super cool to fine tuning your model in a matters of minutes"
   ]
  },
  {
   "cell_type": "markdown",
   "metadata": {},
   "source": [
    "## 5. Model Evaluation"
   ]
  },
  {
   "cell_type": "markdown",
   "metadata": {},
   "source": [
    "Our latest model seems doing pretty good with the classification based on the consistency of training and validation accuracy. So, let see how it performs on the test set\n",
    "\n",
    "Weight and Biases basically saves all our run on the web app as well as the local computer as h5 file. We just need to track the right the location and load it."
   ]
  },
  {
   "cell_type": "code",
   "execution_count": 1,
   "metadata": {},
   "outputs": [
    {
     "name": "stderr",
     "output_type": "stream",
     "text": [
      "Using TensorFlow backend.\n"
     ]
    }
   ],
   "source": [
    "# Import neccesary function to load the data set \n",
    "from utils.read_data import read_signals, read_labels, load_data\n",
    "from keras.utils import to_categorical\n",
    "from keras.models import load_model\n",
    "from sklearn.metrics import confusion_matrix, plot_confusion_matrix\n",
    "import matplotlib.pyplot as plt"
   ]
  },
  {
   "cell_type": "code",
   "execution_count": 2,
   "metadata": {},
   "outputs": [],
   "source": [
    "_, test_signals, _, test_labels = load_data()"
   ]
  },
  {
   "cell_type": "code",
   "execution_count": 3,
   "metadata": {},
   "outputs": [],
   "source": [
    "testX, testY = test_signals, to_categorical(test_labels)"
   ]
  },
  {
   "cell_type": "code",
   "execution_count": 4,
   "metadata": {},
   "outputs": [
    {
     "name": "stdout",
     "output_type": "stream",
     "text": [
      "Shape of testX (2947, 128, 9)\n",
      "Shape of testY (2947, 7)\n"
     ]
    }
   ],
   "source": [
    "# Double check the shape\n",
    "print(\"Shape of testX {}\".format(testX.shape))\n",
    "print(\"Shape of testY {}\".format(testY.shape))\n",
    "\n"
   ]
  },
  {
   "cell_type": "code",
   "execution_count": 5,
   "metadata": {},
   "outputs": [
    {
     "name": "stdout",
     "output_type": "stream",
     "text": [
      "2947/2947 [==============================] - 3s 1ms/step\n",
      "accuracy 90.29521346092224\n"
     ]
    }
   ],
   "source": [
    "# Load the model and make predicition\n",
    "# best_model.metrics_names to get back the name for each scalar value returned by the list in evaluate\n",
    "\n",
    "\n",
    "best_model = load_model('wandb/run-20200528_015708-kdj0zy8l/model-best.h5')\n",
    "score = best_model.evaluate(testX, testY, verbose=1)\n",
    "print(\"{} {}\".format(best_model.metrics_names[1], score[1]*100))"
   ]
  },
  {
   "cell_type": "code",
   "execution_count": 6,
   "metadata": {},
   "outputs": [
    {
     "name": "stdout",
     "output_type": "stream",
     "text": [
      "Probabilities for each class: [[2.3954908e-07 2.3741789e-08 2.8819698e-09 1.6646073e-08 8.0738218e-06\n",
      "  2.3554827e-08 9.9999166e-01]]\n",
      "Predicted class with highest probability [6]\n",
      "True Class 6\n"
     ]
    }
   ],
   "source": [
    "# Make inference with one example\n",
    "sample = 69\n",
    "example = testX[sample,:,:].reshape((1,testX.shape[1],testX.shape[2]))\n",
    "prediction = best_model.predict(example)\n",
    "prediction_class = prediction.argmax(axis=1)\n",
    "\n",
    "print(\"Probabilities for each class: {}\".format(prediction))\n",
    "print(\"Predicted class with highest probability {}\".format(prediction_class))\n",
    "print(\"True Class {}\".format(testY[sample,:].argmax()))\n"
   ]
  },
  {
   "cell_type": "code",
   "execution_count": 7,
   "metadata": {},
   "outputs": [
    {
     "data": {
      "text/plain": [
       "array([[472,   4,  20,   0,   0,   0],\n",
       "       [ 20, 446,   3,   0,   2,   0],\n",
       "       [  1,  12, 407,   0,   0,   0],\n",
       "       [  4,  16,   0, 348, 123,   0],\n",
       "       [ 10,   0,   0,  44, 478,   0],\n",
       "       [  0,  27,   0,   0,   0, 510]])"
      ]
     },
     "execution_count": 7,
     "metadata": {},
     "output_type": "execute_result"
    }
   ],
   "source": [
    "# Debug the model with confusion matrix\n",
    "testY_pred = best_model.predict(testX)\n",
    "\n",
    "# labels = ['Nothing', 'walking', 'walking upstairs', 'walking downstairs', 'sitting', 'standing', 'laying']\n",
    "confusion_matrix(testY.argmax(axis=1), testY_pred.argmax(axis=1))\n"
   ]
  },
  {
   "cell_type": "markdown",
   "metadata": {},
   "source": [
    "1) There are two things we can observe from the above result:\n",
    "- Test/dev data accuracy is less than train data accurracy --> maybe overfitting problem. Solutions might be to try out different regularization techniques or collect more data/features\n",
    "\n",
    "2) Sitting and Standing seems like two really hard things for the model to discern. If you want to improve the perfomance of the RNN model, maybe try:\n",
    "\n",
    "- Take a look at what features that really helps the model make these decision. From my understanding, the collected sensor data for these these model is a similar.\n"
   ]
  },
  {
   "cell_type": "markdown",
   "metadata": {},
   "source": [
    "## 6. Freeze Keras model and prepare to deploy it to tensorflow"
   ]
  },
  {
   "cell_type": "markdown",
   "metadata": {},
   "source": [
    "One thing to note is that at this time of the analysis, the version of keras and tensorflow to work accordingly with coremltools is:\n",
    "\n",
    "- keras==2.2.4\n",
    "- tensorflow==1.1.3\n",
    "\n",
    "Our training and saving the model session, however, happend with the most updated version of keras and tensorflow. As a result, the configuraton of loading the model in keras version (compatible with coremltools) is slightly different. The resolution is to: \n",
    "\n",
    "- Make sure we use the above version for keras and tensorflow\n",
    "- Modified the saved h5 file (from most updated keras/tensorflow) to a more compatible version for the above keras/tensorflow\n",
    "- Load the model in normally\n",
    "- Use coremltools to convert to .mlmodel files compatible for iOS device"
   ]
  },
  {
   "cell_type": "code",
   "execution_count": 3,
   "metadata": {},
   "outputs": [
    {
     "name": "stdout",
     "output_type": "stream",
     "text": [
      "<Closed HDF5 file>\n"
     ]
    }
   ],
   "source": [
    "# Load in keras model first. Using the older version of keras \n",
    "from keras.models import load_model\n",
    "import h5py\n",
    "\n",
    "f = h5py.File('wandb/run-20200528_015708-kdj0zy8l/model-best.h5','r+')\n",
    "data_p = f.attrs['training_config']\n",
    "data_p = data_p.decode().replace(\"learning_rate\",\"lr\").encode()\n",
    "f.attrs['training_config'] = data_p\n",
    "f.close()\n"
   ]
  },
  {
   "cell_type": "code",
   "execution_count": 4,
   "metadata": {},
   "outputs": [
    {
     "name": "stdout",
     "output_type": "stream",
     "text": [
      "WARNING:tensorflow:From /Users/LocNguyen/Desktop/DataSci/human-activity-recognition/HAR/lib/python3.7/site-packages/keras/optimizers.py:790: The name tf.train.Optimizer is deprecated. Please use tf.compat.v1.train.Optimizer instead.\n",
      "\n",
      "WARNING:tensorflow:From /Users/LocNguyen/Desktop/DataSci/human-activity-recognition/HAR/lib/python3.7/site-packages/tensorflow/python/ops/math_grad.py:1250: add_dispatch_support.<locals>.wrapper (from tensorflow.python.ops.array_ops) is deprecated and will be removed in a future version.\n",
      "Instructions for updating:\n",
      "Use tf.where in 2.0, which has the same broadcast rule as np.where\n"
     ]
    }
   ],
   "source": [
    "best_model = load_model('wandb/run-20200528_015708-kdj0zy8l/model-best.h5')"
   ]
  },
  {
   "cell_type": "code",
   "execution_count": 5,
   "metadata": {},
   "outputs": [
    {
     "name": "stdout",
     "output_type": "stream",
     "text": [
      "_________________________________________________________________\n",
      "Layer (type)                 Output Shape              Param #   \n",
      "=================================================================\n",
      "lstm_1 (LSTM)                (None, 128)               70656     \n",
      "_________________________________________________________________\n",
      "dense_1 (Dense)              (None, 200)               25800     \n",
      "_________________________________________________________________\n",
      "dense_2 (Dense)              (None, 7)                 1407      \n",
      "=================================================================\n",
      "Total params: 97,863\n",
      "Trainable params: 97,863\n",
      "Non-trainable params: 0\n",
      "_________________________________________________________________\n"
     ]
    }
   ],
   "source": [
    "best_model.summary()"
   ]
  },
  {
   "cell_type": "code",
   "execution_count": 6,
   "metadata": {},
   "outputs": [
    {
     "name": "stdout",
     "output_type": "stream",
     "text": [
      "Name: tensorflow\r\n",
      "Version: 1.14.0\r\n",
      "Summary: TensorFlow is an open source machine learning framework for everyone.\r\n",
      "Home-page: https://www.tensorflow.org/\r\n",
      "Author: Google Inc.\r\n",
      "Author-email: packages@tensorflow.org\r\n",
      "License: Apache 2.0\r\n",
      "Location: /Users/LocNguyen/Desktop/DataSci/human-activity-recognition/HAR/lib/python3.7/site-packages\r\n",
      "Requires: astor, keras-preprocessing, termcolor, absl-py, keras-applications, google-pasta, wheel, protobuf, tensorflow-estimator, wrapt, six, numpy, tensorboard, grpcio, gast\r\n",
      "Required-by: \r\n"
     ]
    }
   ],
   "source": [
    "!pip show tensorflow"
   ]
  },
  {
   "cell_type": "code",
   "execution_count": 7,
   "metadata": {},
   "outputs": [
    {
     "name": "stdout",
     "output_type": "stream",
     "text": [
      "Name: Keras\r\n",
      "Version: 2.2.4\r\n",
      "Summary: Deep Learning for humans\r\n",
      "Home-page: https://github.com/keras-team/keras\r\n",
      "Author: Francois Chollet\r\n",
      "Author-email: francois.chollet@gmail.com\r\n",
      "License: MIT\r\n",
      "Location: /Users/LocNguyen/Desktop/DataSci/human-activity-recognition/HAR/lib/python3.7/site-packages\r\n",
      "Requires: numpy, keras-preprocessing, h5py, keras-applications, six, scipy, pyyaml\r\n",
      "Required-by: \r\n"
     ]
    }
   ],
   "source": [
    "!pip show keras"
   ]
  },
  {
   "cell_type": "code",
   "execution_count": 9,
   "metadata": {},
   "outputs": [
    {
     "name": "stdout",
     "output_type": "stream",
     "text": [
      "0 : lstm_1_input, <keras.engine.input_layer.InputLayer object at 0x1356184d0>\n",
      "1 : lstm_1, <keras.layers.recurrent.LSTM object at 0x1356189d0>\n",
      "2 : dense_1, <keras.layers.core.Dense object at 0x135609e10>\n",
      "3 : dense_1__activation__, <keras.layers.core.Activation object at 0x138ab39d0>\n",
      "4 : dense_2, <keras.layers.core.Dense object at 0x135609950>\n",
      "5 : dense_2__activation__, <keras.layers.core.Activation object at 0x138ab3850>\n",
      "\n",
      "\n",
      "Recommendation: This model has at least one multiarray input/output of type double.\n",
      "For large sized arrays, multiarrays of type float32 are more efficient.\n",
      "In future, float input/output multiarrays will be produced by default by the converter.\n",
      "Please use, either the flag 'use_float_arraytype' during the call to convert or\n",
      "the utility 'coremltools.utils.convert_double_to_float_multiarray_type(spec)', post-conversion.\n",
      "\n",
      "\n",
      "input {\n",
      "  name: \"sensor_signals\"\n",
      "  type {\n",
      "    multiArrayType {\n",
      "      shape: 9\n",
      "      dataType: DOUBLE\n",
      "    }\n",
      "  }\n",
      "}\n",
      "input {\n",
      "  name: \"lstm_1_h_in\"\n",
      "  type {\n",
      "    multiArrayType {\n",
      "      shape: 128\n",
      "      dataType: DOUBLE\n",
      "    }\n",
      "    isOptional: true\n",
      "  }\n",
      "}\n",
      "input {\n",
      "  name: \"lstm_1_c_in\"\n",
      "  type {\n",
      "    multiArrayType {\n",
      "      shape: 128\n",
      "      dataType: DOUBLE\n",
      "    }\n",
      "    isOptional: true\n",
      "  }\n",
      "}\n",
      "output {\n",
      "  name: \"output\"\n",
      "  type {\n",
      "    multiArrayType {\n",
      "      shape: 7\n",
      "      dataType: DOUBLE\n",
      "    }\n",
      "  }\n",
      "}\n",
      "output {\n",
      "  name: \"lstm_1_h_out\"\n",
      "  type {\n",
      "    multiArrayType {\n",
      "      shape: 128\n",
      "      dataType: DOUBLE\n",
      "    }\n",
      "  }\n",
      "}\n",
      "output {\n",
      "  name: \"lstm_1_c_out\"\n",
      "  type {\n",
      "    multiArrayType {\n",
      "      shape: 128\n",
      "      dataType: DOUBLE\n",
      "    }\n",
      "  }\n",
      "}\n",
      "metadata {\n",
      "  userDefined {\n",
      "    key: \"coremltoolsVersion\"\n",
      "    value: \"3.4\"\n",
      "  }\n",
      "}\n",
      "\n"
     ]
    }
   ],
   "source": [
    "# Have to load it in from h5 file first and then convert it to mlmodel file\n",
    "coreml_model = coremltools.converters.keras.convert(best_model, input_names=['sensor_signals'], output_names=['output'])\n",
    "print(coreml_model)\n",
    "coreml_model.author = 'Loc Nguyen'\n",
    "coreml_model.license = 'N/A'\n",
    "coreml_model.short_description = 'Activity based recognition based on UCI dataset'\n",
    "coreml_model.output_description['output'] = 'Probability of each activity'\n",
    "\n",
    "\n",
    "# Save \n",
    "coreml_model.save('HARClassifier.mlmodel')"
   ]
  },
  {
   "cell_type": "code",
   "execution_count": null,
   "metadata": {},
   "outputs": [],
   "source": []
  }
 ],
 "metadata": {
  "kernelspec": {
   "display_name": "Python 3",
   "language": "python",
   "name": "python3"
  },
  "language_info": {
   "codemirror_mode": {
    "name": "ipython",
    "version": 3
   },
   "file_extension": ".py",
   "mimetype": "text/x-python",
   "name": "python",
   "nbconvert_exporter": "python",
   "pygments_lexer": "ipython3",
   "version": "3.7.7"
  }
 },
 "nbformat": 4,
 "nbformat_minor": 4
}
